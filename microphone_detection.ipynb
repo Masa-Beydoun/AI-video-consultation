{
 "cells": [
  {
   "cell_type": "code",
   "execution_count": 49,
   "id": "b7e523cf",
   "metadata": {},
   "outputs": [],
   "source": [
    "import pyaudio\n",
    "import sounddevice as sd\n",
    "import wavio\n",
    "import numpy as np \n",
    "import keyboard  "
   ]
  },
  {
   "cell_type": "code",
   "execution_count": 50,
   "id": "665bc72d",
   "metadata": {},
   "outputs": [
    {
     "name": "stdout",
     "output_type": "stream",
     "text": [
      "No built-in microphone found.\n"
     ]
    }
   ],
   "source": [
    "p = pyaudio.PyAudio()\n",
    "\n",
    "device_count = p.get_device_count()\n",
    "\n",
    "built_in_mic = None\n",
    "\n",
    "# Check if it's an input device (microphone)\n",
    "        # Check if \"built-in\" is in the device name\n",
    "for i in range(device_count):\n",
    "    device_info = p.get_device_info_by_index(i)\n",
    "    if device_info['maxInputChannels'] > 0:  \n",
    "        if \"built-in\" in device_info['name'].lower():\n",
    "            built_in_mic = i\n",
    "            print(f\"Built-in Microphone found: Device {i} - {device_info['name']}\")\n",
    "\n",
    "if built_in_mic is None:\n",
    "    print(\"No built-in microphone found.\")\n"
   ]
  },
  {
   "cell_type": "code",
   "execution_count": 51,
   "id": "fd78f927",
   "metadata": {},
   "outputs": [
    {
     "name": "stdout",
     "output_type": "stream",
     "text": [
      "Device 0: Microsoft Sound Mapper - Input\n",
      "Device 1: Headset (soundcore P20i Hands-F\n",
      "Device 6: Primary Sound Capture Driver\n",
      "Device 7: Headset (soundcore P20i Hands-Free AG Audio)\n",
      "Device 15: Headset (soundcore P20i Hands-Free AG Audio)\n",
      "Device 21: Headset (@System32\\drivers\\bthhfenum.sys,#2;%1 Hands-Free AG Audio%0\n",
      ";(soundcore P20i))\n",
      "Device 23: Headset (@System32\\drivers\\bthhfenum.sys,#2;%1 Hands-Free AG Audio%0\n",
      ";(M90max))\n",
      "Device 25: Headset (@System32\\drivers\\bthhfenum.sys,#2;%1 Hands-Free AG Audio%0\n",
      ";(GL-HP201))\n"
     ]
    }
   ],
   "source": [
    "# Loop through the devices and print their names and indices\n",
    "\n",
    "for i in range(device_count):\n",
    "    device_info = p.get_device_info_by_index(i)\n",
    "    if device_info['maxInputChannels'] > 0: \n",
    "        print(f\"Device {i}: {device_info['name']}\")\n",
    "\n",
    "# Terminate the PyAudio instance\n",
    "p.terminate()"
   ]
  },
  {
   "cell_type": "code",
   "execution_count": 52,
   "id": "2f2db8c0",
   "metadata": {},
   "outputs": [
    {
     "name": "stdout",
     "output_type": "stream",
     "text": [
      "Recording... Press 'Enter' to stop.\n",
      "Audio saved as 'recorded_audio.wav'\n"
     ]
    }
   ],
   "source": [
    "from threading import Event\n",
    "\n",
    "def record_audio():\n",
    "    sample_rate = 44100\n",
    "    stop_event = Event()  # to stop recording\n",
    "\n",
    "    print(\"Recording... Press 'Enter' to stop.\")\n",
    "\n",
    "    # Start recording in a non-blocking way\n",
    "    recording = []\n",
    "    def callback(indata, frames, time, status):\n",
    "        recording.append(indata.copy())\n",
    "        if stop_event.is_set():  \n",
    "            raise sd.CallbackStop\n",
    "\n",
    "    # Begin recording with callback\n",
    "    stream = sd.InputStream(\n",
    "        samplerate=sample_rate,\n",
    "        channels=1,\n",
    "        dtype='int16',\n",
    "        device=1,\n",
    "        callback=callback\n",
    "    )\n",
    "    stream.start()\n",
    "\n",
    "    # Wait for Enter key to stop\n",
    "    keyboard.wait('enter')\n",
    "    stop_event.set()  \n",
    "    stream.stop()\n",
    "    stream.close()\n",
    "\n",
    "    # Save the recording\n",
    "    if recording:\n",
    "        recording = np.concatenate(recording)\n",
    "        audio_file_path = \"recorded_audio.wav\"  \n",
    "        wavio.write(audio_file_path, recording, sample_rate, sampwidth=2)\n",
    "        print(f\"Audio saved as '{audio_file_path}'\")\n",
    "        return audio_file_path  # Return the path\n",
    "\n",
    "if __name__ == \"__main__\":\n",
    "    audio_path = record_audio()  "
   ]
  }
 ],
 "metadata": {
  "kernelspec": {
   "display_name": "Python 3",
   "language": "python",
   "name": "python3"
  },
  "language_info": {
   "codemirror_mode": {
    "name": "ipython",
    "version": 3
   },
   "file_extension": ".py",
   "mimetype": "text/x-python",
   "name": "python",
   "nbconvert_exporter": "python",
   "pygments_lexer": "ipython3",
   "version": "3.10.0rc1"
  }
 },
 "nbformat": 4,
 "nbformat_minor": 5
}
